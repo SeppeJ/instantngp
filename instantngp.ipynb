{
 "cells": [
  {
   "cell_type": "code",
   "execution_count": 53,
   "metadata": {},
   "outputs": [],
   "source": [
    "import numpy as np\n",
    "import cv2 as cv\n",
    "import matplotlib.pyplot as plt\n",
    "import json\n",
    "import math"
   ]
  },
  {
   "cell_type": "code",
   "execution_count": 54,
   "metadata": {},
   "outputs": [
    {
     "name": "stdout",
     "output_type": "stream",
     "text": [
      "[ 2.05018189  0.98840169 -0.57373535]\n"
     ]
    }
   ],
   "source": [
    "# Load rotation vectors for eavh camera\n",
    "rvecs = []\n",
    "for cam in range(1, 8):\n",
    "    with open(f'cam_{cam}/extrinsics/rvec.txt', 'r') as f:\n",
    "        rvecs.append(np.array([float(x) for x in f.read().split()]))\n",
    "print(rvecs[0])"
   ]
  },
  {
   "cell_type": "code",
   "execution_count": 55,
   "metadata": {},
   "outputs": [],
   "source": [
    "# Convert rotation vectors to rotation matrices \n",
    "rmat = [cv.Rodrigues(rvec)[0] for rvec in rvecs]\n",
    "# Transpose rotation matrices\n",
    "rmat = [np.transpose(r) for r in rmat]"
   ]
  },
  {
   "cell_type": "code",
   "execution_count": 56,
   "metadata": {},
   "outputs": [
    {
     "name": "stdout",
     "output_type": "stream",
     "text": [
      "[-134.25953329  -23.76099666  187.46374006]\n"
     ]
    }
   ],
   "source": [
    "# Load translation vectors for each camera\n",
    "tvecs = []\n",
    "for cam in range(1, 8):\n",
    "    with open(f'cam_{cam}/extrinsics/tvec.txt', 'r') as f:\n",
    "        tvecs.append(np.array([float(x) for x in f.read().split()]))\n",
    "print(tvecs[0])"
   ]
  },
  {
   "cell_type": "code",
   "execution_count": 57,
   "metadata": {},
   "outputs": [
    {
     "name": "stdout",
     "output_type": "stream",
     "text": [
      "[[ 5.96808242e-01  4.51155708e-01 -6.63534814e-01 -1.34259533e+02]\n",
      " [ 7.99931863e-01 -3.99142022e-01  4.48101172e-01 -2.37609967e+01]\n",
      " [-6.26812263e-02 -7.98213113e-01 -5.99105074e-01  1.87463740e+02]\n",
      " [ 0.00000000e+00  0.00000000e+00  0.00000000e+00  1.00000000e+00]]\n"
     ]
    }
   ],
   "source": [
    "# Construct camera to world transformation matrices\n",
    "T = [np.eye(4) for _ in range(7)]\n",
    "for i in range(7):\n",
    "    T[i][:3, :3] = rmat[i]\n",
    "    T[i][:3, 3] = tvecs[i]\n",
    "print(T[0])"
   ]
  },
  {
   "cell_type": "code",
   "execution_count": 58,
   "metadata": {},
   "outputs": [
    {
     "name": "stdout",
     "output_type": "stream",
     "text": [
      "[[1.08437970e+03 0.00000000e+00 8.55671508e+02]\n",
      " [0.00000000e+00 1.06331702e+03 5.57359735e+02]\n",
      " [0.00000000e+00 0.00000000e+00 1.00000000e+00]]\n"
     ]
    }
   ],
   "source": [
    "# Load intrinsic matrices for each camera\n",
    "K = []\n",
    "for cam in range(1, 8):\n",
    "    with open(f'cam_{cam}/intrinsics/cameraMatrix.txt', 'r') as f:\n",
    "        K.append(np.array([float(x) for x in f.read().split()]).reshape(3, 3))\n",
    "print(K[0])"
   ]
  },
  {
   "cell_type": "code",
   "execution_count": 59,
   "metadata": {},
   "outputs": [],
   "source": [
    "# Construct transforms.json in instant-ngp format\n",
    "transforms = {}\n",
    "transforms['w'] = 1920.0\n",
    "transforms['h'] = 1080.0\n",
    "transforms['aabb_scale'] = 2.0\n",
    "transforms['scale'] = 0.005\n",
    "transforms['offset'] = [0.0, 0.0, 0.0]\n",
    "frames = []\n",
    "for i in range(7):\n",
    "    frame = {}\n",
    "    frame['file_path'] = f'c{i+1}origalpha.png'\n",
    "    frame['transform_matrix'] = T[i].tolist()\n",
    "    frame['f1_x'] = K[i][0, 0]\n",
    "    frame['f1_y'] = K[i][1, 1]\n",
    "    frame['camera_angle_x'] = 2 * math.atan(1080 / (2 * K[i][0, 0]))\n",
    "    frame['camera_angle_y'] = 2 * math.atan(1920 / (2 * K[i][1, 1]))\n",
    "    frame['c1_x'] = K[i][0, 2]\n",
    "    frame['c1_y'] = K[i][1, 2]\n",
    "    frames.append(frame)\n",
    "transforms['frames'] = frames"
   ]
  },
  {
   "cell_type": "code",
   "execution_count": 60,
   "metadata": {},
   "outputs": [],
   "source": [
    "# Write transforms to file\n",
    "with open('transforms.json', 'w') as f:\n",
    "    json.dump(transforms, f, indent=4)"
   ]
  }
 ],
 "metadata": {
  "kernelspec": {
   "display_name": "thesis",
   "language": "python",
   "name": "python3"
  },
  "language_info": {
   "codemirror_mode": {
    "name": "ipython",
    "version": 3
   },
   "file_extension": ".py",
   "mimetype": "text/x-python",
   "name": "python",
   "nbconvert_exporter": "python",
   "pygments_lexer": "ipython3",
   "version": "3.10.13"
  }
 },
 "nbformat": 4,
 "nbformat_minor": 2
}
